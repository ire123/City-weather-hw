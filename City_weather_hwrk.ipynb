{
 "cells": [
  {
   "cell_type": "code",
   "execution_count": null,
   "metadata": {
    "collapsed": true,
    "scrolled": true
   },
   "outputs": [],
   "source": [
    "import csv\n",
    "from citipy import citipy as cp\n",
    "import os\n",
    "import seaborn\n",
    "import matplotlib.pyplot as plt \n",
    "import pandas as pd\n",
    "import requests as req\n",
    "import numpy as np\n",
    "import json\n",
    "import urllib.request\n",
    "from urllib.request import urlopen\n",
    "import sys\n",
    "from datetime import datetime\n",
    " "
   ]
  },
  {
   "cell_type": "code",
   "execution_count": null,
   "metadata": {
    "scrolled": false
   },
   "outputs": [],
   "source": [
    "# provide a random selection of geos to call citipy which will return\n",
    "# the nearest city in the worldcities.csv. \n",
    "lat_lng  = []\n",
    "lngs = np.random.uniform(-180,180,1500)\n",
    "lats = np.random.uniform(-90, 90,1500)\n",
    "\n",
    "lat_lng[:] = zip(lats, lngs)\n",
    "#print([lat_lng])\n",
    "\n",
    "cities=[]\n",
    "\n",
    "for pair in lat_lng:\n",
    "   # print(pair)\n",
    "    latitude, longitude = pair\n",
    "    city = cp.nearest_city(latitude, longitude)\n",
    "    if city not in cities:\n",
    "       cities.append(city.city_name)\n",
    "   \n",
    "print(len(cities))\n",
    "   \n",
    "print(cities[10])     \n"
   ]
  },
  {
   "cell_type": "code",
   "execution_count": null,
   "metadata": {},
   "outputs": [],
   "source": [
    "# Build partial query URL\n",
    "\n",
    "api_key = \"9ec4c13b501f2e96ec05ce20a6f5744c\"\n",
    "units = \"imperial\"\n",
    "url = \"http://api.openweathermap.org/data/2.5/weather?\"\n",
    "\n",
    "query_url = url + \"units=\" + units + \"&appid=\" + api_key\n",
    "\n",
    "city_weather=[]\n",
    "my_city_data={}\n",
    "list_of_city_data = []\n",
    "\n",
    "#pathname2url: handles any spaces in city & country names with a %20 \"new%20york\"\n",
    "#parse JSON API data needed into py dict.\n",
    "#put dict into list to use  to create dataframe\n",
    "\n",
    "#for city in cities[0:5]:\n",
    "for city in cities:    \n",
    "    try:\n",
    "        req_url = query_url + \"&q=\" + urllib.request.pathname2url(city)\n",
    "        #print(city)\n",
    "        city_weather = req.get(req_url).json()\n",
    "        print(req_url)\n",
    "        print(city_weather)\n",
    "        \n",
    "        city_name     = city_weather[\"name\"]\n",
    "        city_lat      = city_weather[\"coord\"][\"lat\"]\n",
    "        city_lng      = city_weather[\"coord\"][\"lon\"]\n",
    "        city_max_temp = city_weather[\"main\"][\"temp\"]\n",
    "        city_humidity = city_weather[\"main\"][\"humidity\"]\n",
    "        city_wind     = city_weather[\"wind\"][\"speed\"]\n",
    "        city_clouds   = city_weather[\"clouds\"][\"all\"]\n",
    "        city_country  = city_weather[\"sys\"][\"country\"]\n",
    "        city_id       = city_weather     [\"id\"]\n",
    "        c_dt          = city_weather[\"dt\"]\n",
    "       \n",
    "        city_date     = datetime.fromtimestamp(\n",
    "                                 int(c_dt)).strftime('%m-%d-%Y')\n",
    "                   \n",
    "        my_city_data = {\"city\": city_name,\n",
    "                          \"lat\": city_lat,\n",
    "                          \"lng\": city_lng,\n",
    "                          \"max_temp\": city_max_temp,\n",
    "                          \"humidity\": city_humidity,\n",
    "                          \"cloudiness\": city_clouds,\n",
    "                          \"wind_speed\": city_wind,\n",
    "                          \"country\": city_country,\n",
    "                          \"city_id\": city_id,\n",
    "                          \"city_date\" : city_date \n",
    "                       }\n",
    "                           \n",
    "      \n",
    "        list_of_city_data.append(my_city_data)\n",
    "\n",
    "    except Exception as e:\n",
    "        print(e)            \n",
    "    pass \n",
    "#print(my_city_data)\n"
   ]
  },
  {
   "cell_type": "code",
   "execution_count": null,
   "metadata": {
    "collapsed": true
   },
   "outputs": [],
   "source": [
    "#print(list_of_city_data)\n",
    "weather_data = pd.DataFrame(list_of_city_data)\n",
    "#print(weather_data)\n",
    "weather_data.to_csv('city-weather-out.csv')\n"
   ]
  },
  {
   "cell_type": "code",
   "execution_count": null,
   "metadata": {},
   "outputs": [],
   "source": [
    "#weather_data.plot(x=weather_data['lat'], y=weather_data['max_temp'])\n",
    "# Build a scatter plot for each data type\n",
    "plt.scatter(weather_data[\"lat\"], weather_data[\"max_temp\"], marker=\"o\")\n",
    "\n",
    "# # Incorporate the other graph properties\n",
    "plt.title(\"Temperature in World Cities  \" +  city_date)\n",
    "plt.ylabel(\"Temperature (Fahrenheit)\")\n",
    "plt.xlabel(\"Latitude\")\n",
    "plt.grid(True)\n",
    "\n",
    "plt.style.use('seaborn-white')\n",
    "\n",
    "# # Save the figure\n",
    "plt.savefig(\"TemperatureInWorldCities.png\")\n",
    "\n",
    "# Show plot\n",
    "plt.show()"
   ]
  },
  {
   "cell_type": "code",
   "execution_count": null,
   "metadata": {},
   "outputs": [],
   "source": [
    "#df.plot(x=df['lat'], y=df['wind_speed'])\n",
    "# Build a scatter plot for each data type\n",
    "plt.scatter(weather_data[\"lat\"], weather_data[\"wind_speed\"], marker=\"o\")\n",
    "\n",
    "# # Incorporate the other graph properties\n",
    "plt.title(\"Wind in World Cities   \" + city_date)\n",
    "plt.ylabel(\"Wind Speed (MPH)\")\n",
    "plt.xlabel(\"Latitude\")\n",
    "plt.grid(True)\n",
    "plt.style.use('seaborn-white')\n",
    "# # Save the figure\n",
    "plt.savefig(\"Current Wind Speed InWorldCities.png\")\n",
    "\n",
    "# Show plot\n",
    "plt.show()"
   ]
  },
  {
   "cell_type": "code",
   "execution_count": null,
   "metadata": {},
   "outputs": [],
   "source": [
    "#df.plot(x=df['lat'], y=df['clouds'])\n",
    "\n",
    "# Build a scatter plot for each data type\n",
    "plt.scatter(weather_data[\"lat\"], weather_data[\"cloudiness\"], marker=\"o\")\n",
    "\n",
    "# # Incorporate the other graph properties\n",
    "plt.title(\"Cloudiness in World Cities   \" + city_date)\n",
    "plt.ylabel(\"Cloudiness (%)\")\n",
    "plt.xlabel(\"Latitude\")\n",
    "plt.grid(True)\n",
    "plt.style.use('seaborn-white')\n",
    "# # Save the figure\n",
    "plt.savefig(\"Current Cloud Coverage InWorldCities.png\")\n",
    "\n",
    "# Show plot\n",
    "plt.show()"
   ]
  },
  {
   "cell_type": "code",
   "execution_count": null,
   "metadata": {},
   "outputs": [],
   "source": [
    "#df.plot(x=df['lat'], y=df['humidity'])\n",
    "\n",
    "# Build a scatter plot for each data type\n",
    "plt.scatter(weather_data[\"lat\"], weather_data[\"humidity\"], marker=\"o\")\n",
    "\n",
    "# # Incorporate the other graph properties\n",
    "plt.title(\"Humidity in World Cities   \" + city_date)\n",
    "plt.ylabel(\"Humidity (%)\")\n",
    "plt.xlabel(\"Latitude\")\n",
    "plt.grid(True)\n",
    "plt.style.use('seaborn-white')\n",
    "# # Save the figure\n",
    "plt.savefig(\"Current Humidity levels InWorldCities.png\")\n",
    "\n",
    "# Show plot\n",
    "plt.show()"
   ]
  }
 ],
 "metadata": {
  "kernelspec": {
   "display_name": "Python 3",
   "language": "python",
   "name": "python3"
  },
  "language_info": {
   "codemirror_mode": {
    "name": "ipython",
    "version": 3
   },
   "file_extension": ".py",
   "mimetype": "text/x-python",
   "name": "python",
   "nbconvert_exporter": "python",
   "pygments_lexer": "ipython3",
   "version": "3.6.1"
  }
 },
 "nbformat": 4,
 "nbformat_minor": 2
}
